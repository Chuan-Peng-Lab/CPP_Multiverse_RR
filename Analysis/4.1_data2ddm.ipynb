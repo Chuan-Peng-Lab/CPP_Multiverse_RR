{
 "cells": [
  {
   "cell_type": "code",
   "execution_count": 1,
   "metadata": {},
   "outputs": [],
   "source": [
    "import os\n",
    "import mne\n",
    "import matplotlib.pyplot as plt\n",
    "import seaborn as sns\n",
    "import numpy as np\n",
    "import pandas as pd\n",
    "import scipy.stats as stats\n",
    "import numpy as np\n",
    "import pandas as pd\n",
    "import pickle\n",
    "from utils import *"
   ]
  },
  {
   "cell_type": "code",
   "execution_count": 3,
   "metadata": {},
   "outputs": [
    {
     "name": "stderr",
     "output_type": "stream",
     "text": [
      "C:\\Users\\liuyikang\\AppData\\Local\\Temp\\ipykernel_23648\\771018520.py:8: FutureWarning: Not prepending group keys to the result index of transform-like apply. In the future, the group keys will be included in the index, regardless of whether the applied function returns a like-indexed object.\n",
      "To preserve the previous behavior, use\n",
      "\n",
      "\t>>> .groupby(..., group_keys=False)\n",
      "\n",
      "To adopt the future behavior and silence this warning, use \n",
      "\n",
      "\t>>> .groupby(..., group_keys=True)\n",
      "  dfs2ddm['ams'] = dfs2ddm.groupby(['subj_idx','coherence']).am.apply(lambda x: (x - x.mean()) / x.std())\n",
      "C:\\Users\\liuyikang\\AppData\\Local\\Temp\\ipykernel_23648\\771018520.py:9: FutureWarning: Not prepending group keys to the result index of transform-like apply. In the future, the group keys will be included in the index, regardless of whether the applied function returns a like-indexed object.\n",
      "To preserve the previous behavior, use\n",
      "\n",
      "\t>>> .groupby(..., group_keys=False)\n",
      "\n",
      "To adopt the future behavior and silence this warning, use \n",
      "\n",
      "\t>>> .groupby(..., group_keys=True)\n",
      "  dfs2ddm['slps'] = dfs2ddm.groupby(['subj_idx','coherence']).slp.apply(lambda x: (x - x.mean()) / x.std())\n",
      "C:\\Users\\liuyikang\\AppData\\Local\\Temp\\ipykernel_23648\\771018520.py:10: FutureWarning: Not prepending group keys to the result index of transform-like apply. In the future, the group keys will be included in the index, regardless of whether the applied function returns a like-indexed object.\n",
      "To preserve the previous behavior, use\n",
      "\n",
      "\t>>> .groupby(..., group_keys=False)\n",
      "\n",
      "To adopt the future behavior and silence this warning, use \n",
      "\n",
      "\t>>> .groupby(..., group_keys=True)\n",
      "  dfs2ddm['pams'] = dfs2ddm.groupby(['subj_idx','coherence']).pam.apply(lambda x: (x - x.mean()) / x.std())\n"
     ]
    }
   ],
   "source": [
    "dfs_resp_fc = pd.read_csv('../Data/results/dfs_resp_fc.csv')\n",
    "dfs_resp_fc['response']=dfs_resp_fc['correct']\n",
    "dfs_resp_fc['rt']=dfs_resp_fc['rt']\n",
    "\n",
    "#  process the feature\n",
    "dfs2ddm = dfs_resp_fc.loc[:,['subj_idx','coherence','slp','am','pkl','rt','slp_quantile','am_quantile', 'prioritized','response','pam','pam_quantile']]\n",
    "# normalize\n",
    "dfs2ddm['ams'] = dfs2ddm.groupby(['subj_idx','coherence']).am.apply(lambda x: (x - x.mean()) / x.std())\n",
    "dfs2ddm['slps'] = dfs2ddm.groupby(['subj_idx','coherence']).slp.apply(lambda x: (x - x.mean()) / x.std())\n",
    "dfs2ddm['pams'] = dfs2ddm.groupby(['subj_idx','coherence']).pam.apply(lambda x: (x - x.mean()) / x.std())\n",
    "# bin\n",
    "mean_am = dfs2ddm.groupby(['subj_idx', 'coherence', 'am_quantile']).ams.mean().reset_index()\n",
    "mean_am.rename(columns={'ams': 'am_bin'}, inplace=True)\n",
    "dfs2ddm = pd.merge(dfs2ddm, mean_am, on=['subj_idx', 'coherence', 'am_quantile'], how='left')\n",
    "mean_slp = dfs2ddm.groupby(['subj_idx', 'coherence', 'slp_quantile']).slps.mean().reset_index()\n",
    "mean_slp.rename(columns={'slps': 'slp_bin'}, inplace=True)\n",
    "dfs2ddm = pd.merge(dfs2ddm, mean_slp, on=['subj_idx', 'coherence', 'slp_quantile'], how='left')\n",
    "mean_pam = dfs2ddm.groupby(['subj_idx', 'coherence', 'pam_quantile']).pams.mean().reset_index()\n",
    "mean_pam.rename(columns={'pams': 'pam_bin'}, inplace=True)\n",
    "dfs2ddm = pd.merge(dfs2ddm, mean_pam, on=['subj_idx', 'coherence', 'pam_quantile'], how='left')\n",
    "# condition\n",
    "mean_am = dfs2ddm.groupby(['subj_idx', 'coherence','prioritized']).ams.mean().reset_index()\n",
    "mean_am.rename(columns={'ams': 'am_cond'}, inplace=True)\n",
    "dfs2ddm = pd.merge(dfs2ddm, mean_am, on=['subj_idx', 'coherence','prioritized'], how='left')\n",
    "mean_slp = dfs2ddm.groupby(['subj_idx', 'coherence','prioritized']).slps.mean().reset_index()\n",
    "mean_slp.rename(columns={'slps': 'slp_cond'}, inplace=True)\n",
    "dfs2ddm = pd.merge(dfs2ddm, mean_slp, on=['subj_idx', 'coherence','prioritized'], how='left')\n",
    "mean_pam = dfs2ddm.groupby(['subj_idx', 'coherence','prioritized']).pams.mean().reset_index()\n",
    "mean_pam.rename(columns={'pams': 'pam_cond'}, inplace=True)\n",
    "dfs2ddm = pd.merge(dfs2ddm, mean_pam, on=['subj_idx', 'coherence','prioritized'], how='left')\n",
    "\n",
    "dfs2ddm.to_csv('../Data/results/dfs2ddm.csv', index=False)"
   ]
  },
  {
   "cell_type": "code",
   "execution_count": null,
   "metadata": {},
   "outputs": [],
   "source": []
  }
 ],
 "metadata": {
  "kernelspec": {
   "display_name": "CPPmultiverse",
   "language": "python",
   "name": "python3"
  },
  "language_info": {
   "codemirror_mode": {
    "name": "ipython",
    "version": 3
   },
   "file_extension": ".py",
   "mimetype": "text/x-python",
   "name": "python",
   "nbconvert_exporter": "python",
   "pygments_lexer": "ipython3",
   "version": "3.9.16"
  },
  "orig_nbformat": 4
 },
 "nbformat": 4,
 "nbformat_minor": 2
}
