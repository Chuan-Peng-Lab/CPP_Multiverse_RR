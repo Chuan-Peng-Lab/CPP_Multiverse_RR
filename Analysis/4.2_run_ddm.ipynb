{
 "cells": [
  {
   "cell_type": "code",
   "execution_count": 7,
   "id": "319f0508-bac5-46c4-a68e-afa0eaf2eb21",
   "metadata": {},
   "outputs": [],
   "source": [
    "import kabuki\n",
    "import sys\n",
    "import os\n",
    "import hddm\n",
    "import matplotlib.pyplot as plt\n",
    "import pickle\n",
    "from joblib import Parallel,delayed\n",
    "import arviz as az\n",
    "import numpy as np\n",
    "import pandas as pd\n",
    "from model import *"
   ]
  },
  {
   "cell_type": "code",
   "execution_count": 8,
   "id": "89b23297-4a5d-4455-9cdd-6719d4898cf3",
   "metadata": {},
   "outputs": [],
   "source": [
    "scripts_dir = '/home/jovyan/scripts'\n",
    "sys.path.append(scripts_dir)\n",
    "\n",
    "\n",
    "from HDDMarviz import HDDMarviz\n",
    "from InferenceDataFromHDDM import InferenceDataFromHDDM\n",
    "from plot_ppc_by_cond import plot_ppc_by_cond"
   ]
  },
  {
   "cell_type": "code",
   "execution_count": 9,
   "id": "1bf5a578-f3b5-48d8-992c-0d3f2881da63",
   "metadata": {},
   "outputs": [],
   "source": [
    "df = hddm.load_csv('./dfs2ddm.csv',sep=',')"
   ]
  },
  {
   "cell_type": "code",
   "execution_count": 4,
   "id": "1c63eba1-28c1-4184-8159-c6e07281eb1b",
   "metadata": {},
   "outputs": [
    {
     "name": "stdout",
     "output_type": "stream",
     "text": [
      "WARNING: Custom link functions will not be loaded.\n",
      "WARNING: Custom link functions will not be loaded.\n",
      "WARNING: Custom link functions will not be loaded.\n",
      "WARNING: Custom link functions will not be loaded.\n",
      "WARNING: Custom link functions will not be loaded.\n",
      "WARNING: Custom link functions will not be loaded.\n",
      "WARNING: Custom link functions will not be loaded.\n",
      "WARNING: Custom link functions will not be loaded.\n",
      "WARNING: Custom link functions will not be loaded.\n",
      "WARNING: Custom link functions will not be loaded.\n",
      "WARNING: Custom link functions will not be loaded.\n",
      "WARNING: Custom link functions will not be loaded.\n"
     ]
    }
   ],
   "source": [
    "m1 = Parallel(n_jobs = 4)(delayed(run_m1)(id = i, df = df, samples=4000,burn = 2000,thin=1, save_name = 'temp/m1' ) for i in range(4))\n",
    "m2 = Parallel(n_jobs = 4)(delayed(run_m2)(id = i, df = df, samples=4000,burn = 2000,thin=1, save_name = 'temp/m2' ) for i in range(4))\n",
    "m3 = Parallel(n_jobs = 4)(delayed(run_m3)(id = i, df = df, samples=4000,burn = 2000,thin=1, save_name = 'temp/m3' ) for i in range(4))\n",
    "m4 = Parallel(n_jobs = 4)(delayed(run_m4)(id = i, df = df, samples=4000,burn = 2000,thin=1, save_name = 'temp/m4' ) for i in range(4))\n",
    "m5 = Parallel(n_jobs = 4)(delayed(run_m5)(id = i, df = df, samples=4000,burn = 2000,thin=1, save_name = 'temp/m5' ) for i in range(4))"
   ]
  },
  {
   "cell_type": "code",
   "execution_count": 9,
   "id": "8487e20e-ff4c-407a-9bf3-e97833f0c0da",
   "metadata": {},
   "outputs": [],
   "source": [
    "slps = Parallel(n_jobs = 4)(delayed(slps)(id = i, df = df, samples=4000,burn = 2000,thin=1, save_name = 'temp/slps' ) for i in range(4))\n",
    "ams = Parallel(n_jobs = 4)(delayed(ams)(id = i, df = df, samples=4000,burn = 2000,thin=1, save_name = 'temp/ams' ) for i in range(4))\n",
    "pams = Parallel(n_jobs = 4)(delayed(pams)(id = i, df = df, samples=4000,burn = 2000,thin=1, save_name = 'temp/pams' ) for i in range(4))\n",
    "slp_bin = Parallel(n_jobs = 4)(delayed(slp_bin)(id = i, df = df, samples=4000,burn = 2000,thin=1, save_name = 'temp/slp_bin' ) for i in range(4))\n",
    "am_bin = Parallel(n_jobs = 4)(delayed(am_bin)(id = i, df = df, samples=4000,burn = 2000,thin=1, save_name = 'temp/am_bin' ) for i in range(4))\n",
    "pam_bin = Parallel(n_jobs = 4)(delayed(pam_bin)(id = i, df = df, samples=4000,burn = 2000,thin=1, save_name = 'temp/pam_bin' ) for i in range(4))\n",
    "slp_cond = Parallel(n_jobs = 4)(delayed(slp_cond)(id = i, df = df, samples=4000,burn = 2000,thin=1, save_name = 'temp/slp_cond' ) for i in range(4))\n",
    "am_cond = Parallel(n_jobs = 4)(delayed(am_cond)(id = i, df = df, samples=4000,burn = 2000,thin=1, save_name = 'temp/am_cond' ) for i in range(4))\n",
    "pam_cond = Parallel(n_jobs = 4)(delayed(pam_cond)(id = i, df = df, samples=4000,burn = 2000,thin=1, save_name = 'temp/pam_cond' ) for i in range(4))"
   ]
  },
  {
   "cell_type": "code",
   "execution_count": null,
   "id": "54b50ab3",
   "metadata": {},
   "outputs": [],
   "source": []
  },
  {
   "cell_type": "code",
   "execution_count": null,
   "id": "e8378c81",
   "metadata": {},
   "outputs": [],
   "source": []
  },
  {
   "cell_type": "code",
   "execution_count": null,
   "id": "45681353-686b-419d-baca-27b553009882",
   "metadata": {},
   "outputs": [],
   "source": []
  },
  {
   "cell_type": "code",
   "execution_count": null,
   "id": "1037f5cf-43c7-4614-a54a-50002d3ec5a4",
   "metadata": {},
   "outputs": [],
   "source": []
  },
  {
   "cell_type": "code",
   "execution_count": null,
   "id": "b881f0cb-571a-457d-87f2-c115ac87e99d",
   "metadata": {},
   "outputs": [],
   "source": []
  },
  {
   "cell_type": "code",
   "execution_count": null,
   "id": "b3b8d9a6-4b39-42da-832b-74d9b3bb705b",
   "metadata": {},
   "outputs": [],
   "source": []
  },
  {
   "cell_type": "code",
   "execution_count": null,
   "id": "435e8186-8fe3-4d1a-a7ab-f262fecdea70",
   "metadata": {},
   "outputs": [],
   "source": []
  },
  {
   "cell_type": "code",
   "execution_count": null,
   "id": "cb2c942d-446a-4d2e-ab99-90b364799ef2",
   "metadata": {},
   "outputs": [],
   "source": []
  },
  {
   "cell_type": "code",
   "execution_count": null,
   "id": "f95d6802-f1fa-4b54-a5ba-f6aef12500c6",
   "metadata": {},
   "outputs": [],
   "source": []
  },
  {
   "cell_type": "code",
   "execution_count": null,
   "id": "df87e05d-df00-467f-9361-74f3a43eb047",
   "metadata": {},
   "outputs": [],
   "source": []
  }
 ],
 "metadata": {
  "kernelspec": {
   "display_name": "Python 3",
   "language": "python",
   "name": "python3"
  },
  "language_info": {
   "codemirror_mode": {
    "name": "ipython",
    "version": 3
   },
   "file_extension": ".py",
   "mimetype": "text/x-python",
   "name": "python",
   "nbconvert_exporter": "python",
   "pygments_lexer": "ipython3",
   "version": "3.8.8"
  }
 },
 "nbformat": 4,
 "nbformat_minor": 5
}
